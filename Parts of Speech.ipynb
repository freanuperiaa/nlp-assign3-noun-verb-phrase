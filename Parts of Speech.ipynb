{
 "cells": [
  {
   "cell_type": "code",
   "execution_count": 2,
   "id": "c94fcd07",
   "metadata": {},
   "outputs": [],
   "source": [
    "import nltk"
   ]
  },
  {
   "cell_type": "code",
   "execution_count": 5,
   "id": "1f6cfb02",
   "metadata": {},
   "outputs": [
    {
     "data": {
      "text/plain": [
       "[('I', 'PRP'),\n",
       " ('can', 'MD'),\n",
       " ('not', 'RB'),\n",
       " ('bear', 'VB'),\n",
       " ('the', 'DT'),\n",
       " ('pain', 'NN'),\n",
       " ('of', 'IN'),\n",
       " ('bear', 'NN')]"
      ]
     },
     "execution_count": 5,
     "metadata": {},
     "output_type": "execute_result"
    }
   ],
   "source": [
    "my_text = nltk.word_tokenize(\"I cannot bear the pain of bear\")\n",
    "nltk.pos_tag(my_text)"
   ]
  },
  {
   "cell_type": "code",
   "execution_count": 6,
   "id": "437f6863",
   "metadata": {},
   "outputs": [
    {
     "name": "stdout",
     "output_type": "stream",
     "text": [
      "['I', 'can', 'not', 'bear', 'the', 'pain', 'of', 'bear']\n"
     ]
    }
   ],
   "source": [
    "print(my_text)"
   ]
  },
  {
   "cell_type": "code",
   "execution_count": 99,
   "id": "393c0b1a",
   "metadata": {},
   "outputs": [
    {
     "name": "stdout",
     "output_type": "stream",
     "text": [
      "(S\n",
      "  This/DT\n",
      "  is/VBZ\n",
      "  a/DT\n",
      "  sample/JJ\n",
      "  text/NN\n",
      "  that/WDT\n",
      "  is/VBZ\n",
      "  being/VBG\n",
      "  used/VBN\n",
      "  to/TO\n",
      "  extract/VB\n",
      "  all/DT\n",
      "  phrases/NNS\n",
      "  and/CC\n",
      "  part/NN\n",
      "  of/IN\n",
      "  speech/NN\n",
      "  tags/NNS\n",
      "  of/IN\n",
      "  a/DT\n",
      "  sentence/NN)\n"
     ]
    }
   ],
   "source": [
    "sentence = \"This is a sample text that is being used to extract all phrases and part of speech tags of a sentence\"\n",
    "tokens = nltk.word_tokenize(sentence)\n",
    "# print(tokens)\n",
    "\n",
    "tag = nltk.pos_tag(tokens)\n",
    "# print(tag)\n",
    "noun_phrase_grammar = \"NP: {<DT>?<JJ>*<NN>}\"\n",
    "verb_phrase_grammar = \"VP: {<V> <NP|PP>*}\"\n",
    "cp = nltk.RegexpParser(verb_phrase_grammar)\n",
    "result = cp.parse(tag)\n",
    "print(result)\n",
    "\n",
    "# result.draw()"
   ]
  },
  {
   "cell_type": "code",
   "execution_count": null,
   "id": "296396a1",
   "metadata": {},
   "outputs": [],
   "source": [
    "def recursive_get_words(tree):\n",
    "    my_sentence = "
   ]
  },
  {
   "cell_type": "code",
   "execution_count": 153,
   "id": "95bb430a",
   "metadata": {
    "scrolled": true
   },
   "outputs": [
    {
     "name": "stdout",
     "output_type": "stream",
     "text": [
      "('my', 'PRP$')\n",
      "(NP handsome/NN)\n",
      "(NP father/NN)\n",
      "('will', 'MD')\n",
      "(VP (V be/VB))\n",
      "(VP (V going/VBG) (NP home/NN))\n"
     ]
    }
   ],
   "source": [
    "from nltk import pos_tag, word_tokenize, RegexpParser\n",
    "\n",
    "# text = \"\"\"A big cat and a fluffy kitty ate the dog\"\"\" \n",
    "text = \"my handsome father will be going home\"\n",
    "# text = \"The tired soldier wants to go home.\"\n",
    "tagged = pos_tag(word_tokenize(text)) \n",
    "chunker = RegexpParser(\"\"\" \n",
    "            NP: {<DT>?<JJ>*<NN>}   \n",
    "            P: {<IN>}              \n",
    "            V: {<V.*>}             \n",
    "            PP: {<P> <NP>}         \n",
    "            VP: {<V> <NP|PP>*}     \n",
    "                       \"\"\") \n",
    "output = chunker.parse(tagged) \n",
    "\n",
    "# output.pprint()\n",
    "\n",
    "noun_phrases = []\n",
    "verb_phrases = []\n",
    "for phrase in output:\n",
    "    print(phrase)\n",
    "    if (type(phrase) == nltk.tree.Tree):\n",
    "        if (phrase.label() == 'NP'):\n",
    "            np = (list(phrase))\n",
    "            new_noun_phrase = ' '.join([x[0] for x in list(phrase)])\n",
    "            noun_phrases.append(new_noun_phrase)\n",
    "        elif (phrase.label() == 'VP'):\n",
    "            new_verb_phrase = \"\"\n",
    "#             print(list(phrase))\n",
    "            for i in phrase:\n",
    "                curr_phrase = list(i)\n",
    "                if (len(curr_phrase) == 1):\n",
    "                    new_verb_phrase += curr_phrase[0][0]\n",
    "                    new_verb_phrase += \" \"\n",
    "                    \n",
    "#                     this is where it begins\n",
    "\n",
    "                else:\n",
    "                    for j in i:\n",
    "                        level_one_curr = list(j)\n",
    "#                         print(level_one_curr)\n",
    "#                         if (len(level_one_curr) == 1):\n",
    "# #                             print(level_one_curr)\n",
    "#                             pass\n",
    "                        \n",
    "            verb_phrases.append(new_verb_phrase)\n",
    "\n"
   ]
  },
  {
   "cell_type": "code",
   "execution_count": 158,
   "id": "27d4669f",
   "metadata": {},
   "outputs": [],
   "source": [
    "def get_noun_verb_phrases(text):\n",
    "    tagged = pos_tag(word_tokenize(text)) \n",
    "    chunker = RegexpParser(\"\"\" \n",
    "                NP: {<DT>?<JJ>*<NN>} \n",
    "                P: {<IN>}            \n",
    "                V: {<V.*>}           \n",
    "                PP: {<P> <NP>}       \n",
    "                VP: {<V> <NP|PP>*}   \n",
    "                           \"\"\") \n",
    "    output = chunker.parse(tagged) \n",
    "\n",
    "    # output.pprint()\n",
    "\n",
    "    noun_phrases = []\n",
    "    verb_phrases = []\n",
    "    for phrase in output:\n",
    "        if (type(phrase) == nltk.tree.Tree):\n",
    "            if (phrase.label() == 'NP'):\n",
    "                np = (list(phrase))\n",
    "                new_noun_phrase = ' '.join([x[0] for x in list(phrase)])\n",
    "                noun_phrases.append(new_noun_phrase)\n",
    "            elif (phrase.label() == 'VP'):\n",
    "                new_verb_phrase = \"\"\n",
    "    #             print(list(phrase))\n",
    "                for i in phrase:\n",
    "                    curr_phrase = list(i)\n",
    "                    if (len(curr_phrase) == 1):\n",
    "                        new_verb_phrase += curr_phrase[0][0]\n",
    "                        new_verb_phrase += \" \"\n",
    "\n",
    "    #                     this is where it begins\n",
    "\n",
    "                    else:\n",
    "                        for j in i:\n",
    "                            level_one_curr = list(j)\n",
    "    #                         print(level_one_curr)\n",
    "    #                         if (len(level_one_curr) == 1):\n",
    "    # #                             print(level_one_curr)\n",
    "    #                             pass\n",
    "\n",
    "                verb_phrases.append(new_verb_phrase)\n",
    "        \n",
    "    return noun_phrases, verb_phrases"
   ]
  },
  {
   "cell_type": "code",
   "execution_count": 159,
   "id": "644fd431",
   "metadata": {},
   "outputs": [
    {
     "name": "stdout",
     "output_type": "stream",
     "text": [
      "(['handsome', 'father'], ['be ', 'going home tonight '])\n"
     ]
    }
   ],
   "source": [
    "print(get_noun_verb_phrases(\"My handsome father will be going home tonight\"))"
   ]
  }
 ],
 "metadata": {
  "kernelspec": {
   "display_name": "Python 3",
   "language": "python",
   "name": "python3"
  },
  "language_info": {
   "codemirror_mode": {
    "name": "ipython",
    "version": 3
   },
   "file_extension": ".py",
   "mimetype": "text/x-python",
   "name": "python",
   "nbconvert_exporter": "python",
   "pygments_lexer": "ipython3",
   "version": "3.9.5"
  }
 },
 "nbformat": 4,
 "nbformat_minor": 5
}
